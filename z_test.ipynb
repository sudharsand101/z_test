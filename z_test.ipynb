{
 "cells": [
  {
   "cell_type": "code",
   "execution_count": 8,
   "id": "f23f73c5-d51c-49bc-8931-43111d9aff34",
   "metadata": {},
   "outputs": [
    {
     "data": {
      "text/html": [
       "<div>\n",
       "<style scoped>\n",
       "    .dataframe tbody tr th:only-of-type {\n",
       "        vertical-align: middle;\n",
       "    }\n",
       "\n",
       "    .dataframe tbody tr th {\n",
       "        vertical-align: top;\n",
       "    }\n",
       "\n",
       "    .dataframe thead th {\n",
       "        text-align: right;\n",
       "    }\n",
       "</style>\n",
       "<table border=\"1\" class=\"dataframe\">\n",
       "  <thead>\n",
       "    <tr style=\"text-align: right;\">\n",
       "      <th></th>\n",
       "      <th>learner_name</th>\n",
       "      <th>course</th>\n",
       "      <th>batch</th>\n",
       "      <th>institute</th>\n",
       "      <th>topic</th>\n",
       "      <th>sub_topic</th>\n",
       "    </tr>\n",
       "  </thead>\n",
       "  <tbody>\n",
       "    <tr>\n",
       "      <th>0</th>\n",
       "      <td>sudharsan</td>\n",
       "      <td>data science</td>\n",
       "      <td>D101</td>\n",
       "      <td>guvi</td>\n",
       "      <td>statistics</td>\n",
       "      <td>z test</td>\n",
       "    </tr>\n",
       "  </tbody>\n",
       "</table>\n",
       "</div>"
      ],
      "text/plain": [
       "  learner_name        course batch institute       topic sub_topic\n",
       "0    sudharsan  data science  D101      guvi  statistics    z test"
      ]
     },
     "execution_count": 8,
     "metadata": {},
     "output_type": "execute_result"
    }
   ],
   "source": [
    "import pandas as pd\n",
    "data =[{'learner_name':'sudharsan','course':'data science','batch': 'D101',\n",
    "        'institute':'guvi','topic':'statistics', 'sub_topic': 'z test'}]\n",
    "df = pd.DataFrame(data)\n",
    "df"
   ]
  },
  {
   "cell_type": "code",
   "execution_count": 5,
   "id": "14e25106-dd4c-434b-a562-52a9084c9391",
   "metadata": {},
   "outputs": [
    {
     "name": "stdin",
     "output_type": "stream",
     "text": [
      "Enter the sample mean value:\n",
      " 97.65\n",
      "Enter the population mean value:\n",
      " 100\n",
      "Enter the standard deviation of the population:\n",
      " 15\n",
      "Enter the number of samples:\n",
      " 36\n",
      "Enter the allowable error(0.01 or 0.05 or 0.10):\n",
      " 0.01\n"
     ]
    },
    {
     "name": "stdout",
     "output_type": "stream",
     "text": [
      "z test:-0.9399999999999977\n",
      "The 1% error is in acceptable range. \n",
      "****Accept the null hypothesis****\n",
      "\n"
     ]
    }
   ],
   "source": [
    "import math\n",
    "\n",
    "#) taking values from user\n",
    "sample_mean = float(input(\"Enter the sample mean value:\\n\"))\n",
    "population_mean =float(input(\"Enter the population mean value:\\n\"))\n",
    "stand_dev_population = float(input(\"Enter the standard deviation of the population:\\n\"))\n",
    "sample_number = int(input(\"Enter the number of samples:\\n\"))\n",
    "allowable_error = float(input(\"Enter the allowable error(0.01 or 0.05 or 0.10):\\n\"))\n",
    "\n",
    "#) z test equation\n",
    "z_test = ((sample_mean - population_mean)*math.sqrt(sample_number))/stand_dev_population\n",
    "print(f\"z test:{z_test}\")\n",
    "\n",
    "#) conditions for the error range\n",
    "if allowable_error == 0.05:\n",
    "    if z_test < 1.96 and z_test > -1.96:\n",
    "        print(\"The 5% error is in acceptable range. \\n****Accept the null hypothesis****\\n\")\n",
    "    else:\n",
    "        print(\"The 5% error is not in acceptable range. \\n****Reject the null hypothesis****\\n\")\n",
    "elif allowable_error == 0.01:\n",
    "    if z_test < 2.58 and z_test > -2.58:\n",
    "        print(\"The 1% error is in acceptable range. \\n****Accept the null hypothesis****\\n\")\n",
    "    else:\n",
    "        print(\"The 1% error is not in acceptable range. \\n****Reject the null hypothesis****\\n\")\n",
    "elif allowable_error == 0.1:\n",
    "    if z_test < 1.65 and z_test > -1.65:\n",
    "        print(\"The 10% error is in acceptable range. \\n****Accept the null hypothesis****\\n\")\n",
    "    else:\n",
    "        print(\"The 10% error is not in acceptable range. \\n****Reject the null hypothesis****\\n\")\n",
    "else:\n",
    "    print(\"Enter the allowable error value correctly\")"
   ]
  },
  {
   "cell_type": "code",
   "execution_count": null,
   "id": "05047d05-ab48-481d-90d4-e3f5a84599d0",
   "metadata": {},
   "outputs": [],
   "source": []
  }
 ],
 "metadata": {
  "kernelspec": {
   "display_name": "Python 3 (ipykernel)",
   "language": "python",
   "name": "python3"
  },
  "language_info": {
   "codemirror_mode": {
    "name": "ipython",
    "version": 3
   },
   "file_extension": ".py",
   "mimetype": "text/x-python",
   "name": "python",
   "nbconvert_exporter": "python",
   "pygments_lexer": "ipython3",
   "version": "3.12.0"
  }
 },
 "nbformat": 4,
 "nbformat_minor": 5
}
